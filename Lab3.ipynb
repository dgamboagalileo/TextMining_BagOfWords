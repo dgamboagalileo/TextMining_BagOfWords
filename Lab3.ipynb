{
 "cells": [
  {
   "cell_type": "code",
   "execution_count": 119,
   "id": "83194f2d-9ae8-45ab-94a3-f196ec56652c",
   "metadata": {},
   "outputs": [],
   "source": [
    "import pandas as pd\n",
    "import numpy as np\n",
    "import re\n",
    "import spacy\n",
    "import spacy.cli\n",
    "from wordcloud import WordCloud, STOPWORDS, ImageColorGenerator\n",
    "import matplotlib.pyplot as plt"
   ]
  },
  {
   "cell_type": "code",
   "execution_count": 29,
   "id": "8a096b5e-171f-44e7-b8ad-653469480ccb",
   "metadata": {},
   "outputs": [
    {
     "name": "stdout",
     "output_type": "stream",
     "text": [
      "✔ Download and installation successful\n",
      "You can now load the package via spacy.load('en_core_web_sm')\n",
      "✔ Download and installation successful\n",
      "You can now load the package via spacy.load('en_core_web_md')\n"
     ]
    }
   ],
   "source": [
    "spacy.cli.download(\"en_core_web_sm\")\n",
    "spacy.cli.download(\"en_core_web_md\")"
   ]
  },
  {
   "cell_type": "code",
   "execution_count": 30,
   "id": "eb47ef35-0ea0-41a5-8d69-a8c316274b05",
   "metadata": {},
   "outputs": [],
   "source": [
    "nlp_en_sm = spacy.load(\"en_core_web_sm\")\n",
    "nlp_en_md = spacy.load(\"en_core_web_md\")"
   ]
  },
  {
   "cell_type": "markdown",
   "id": "e1f745f4-56ec-4604-a251-a98e0dfdaefd",
   "metadata": {},
   "source": [
    "# 1. Dataset"
   ]
  },
  {
   "cell_type": "code",
   "execution_count": 10,
   "id": "8981971d-ea7b-4987-88e0-bdcbf9af8878",
   "metadata": {},
   "outputs": [],
   "source": [
    "dataset=pd.read_csv('tweets.csv', encoding='latin-1', header=0)"
   ]
  },
  {
   "cell_type": "code",
   "execution_count": 11,
   "id": "fb3b8f4d-4628-4b53-9121-e3f02632d4ec",
   "metadata": {},
   "outputs": [
    {
     "data": {
      "text/html": [
       "<div>\n",
       "<style scoped>\n",
       "    .dataframe tbody tr th:only-of-type {\n",
       "        vertical-align: middle;\n",
       "    }\n",
       "\n",
       "    .dataframe tbody tr th {\n",
       "        vertical-align: top;\n",
       "    }\n",
       "\n",
       "    .dataframe thead th {\n",
       "        text-align: right;\n",
       "    }\n",
       "</style>\n",
       "<table border=\"1\" class=\"dataframe\">\n",
       "  <thead>\n",
       "    <tr style=\"text-align: right;\">\n",
       "      <th></th>\n",
       "      <th>0</th>\n",
       "      <th>1467810369</th>\n",
       "      <th>Mon Apr 06 22:19:45 PDT 2009</th>\n",
       "      <th>NO_QUERY</th>\n",
       "      <th>_TheSpecialOne_</th>\n",
       "      <th>@switchfoot http://twitpic.com/2y1zl - Awww, that's a bummer.  You shoulda got David Carr of Third Day to do it. ;D</th>\n",
       "    </tr>\n",
       "  </thead>\n",
       "  <tbody>\n",
       "    <tr>\n",
       "      <th>0</th>\n",
       "      <td>0</td>\n",
       "      <td>1467810672</td>\n",
       "      <td>Mon Apr 06 22:19:49 PDT 2009</td>\n",
       "      <td>NO_QUERY</td>\n",
       "      <td>scotthamilton</td>\n",
       "      <td>is upset that he can't update his Facebook by ...</td>\n",
       "    </tr>\n",
       "    <tr>\n",
       "      <th>1</th>\n",
       "      <td>0</td>\n",
       "      <td>1467810917</td>\n",
       "      <td>Mon Apr 06 22:19:53 PDT 2009</td>\n",
       "      <td>NO_QUERY</td>\n",
       "      <td>mattycus</td>\n",
       "      <td>@Kenichan I dived many times for the ball. Man...</td>\n",
       "    </tr>\n",
       "    <tr>\n",
       "      <th>2</th>\n",
       "      <td>0</td>\n",
       "      <td>1467811184</td>\n",
       "      <td>Mon Apr 06 22:19:57 PDT 2009</td>\n",
       "      <td>NO_QUERY</td>\n",
       "      <td>ElleCTF</td>\n",
       "      <td>my whole body feels itchy and like its on fire</td>\n",
       "    </tr>\n",
       "    <tr>\n",
       "      <th>3</th>\n",
       "      <td>0</td>\n",
       "      <td>1467811193</td>\n",
       "      <td>Mon Apr 06 22:19:57 PDT 2009</td>\n",
       "      <td>NO_QUERY</td>\n",
       "      <td>Karoli</td>\n",
       "      <td>@nationwideclass no, it's not behaving at all....</td>\n",
       "    </tr>\n",
       "    <tr>\n",
       "      <th>4</th>\n",
       "      <td>0</td>\n",
       "      <td>1467811372</td>\n",
       "      <td>Mon Apr 06 22:20:00 PDT 2009</td>\n",
       "      <td>NO_QUERY</td>\n",
       "      <td>joy_wolf</td>\n",
       "      <td>@Kwesidei not the whole crew</td>\n",
       "    </tr>\n",
       "  </tbody>\n",
       "</table>\n",
       "</div>"
      ],
      "text/plain": [
       "   0  1467810369  Mon Apr 06 22:19:45 PDT 2009  NO_QUERY _TheSpecialOne_  \\\n",
       "0  0  1467810672  Mon Apr 06 22:19:49 PDT 2009  NO_QUERY   scotthamilton   \n",
       "1  0  1467810917  Mon Apr 06 22:19:53 PDT 2009  NO_QUERY        mattycus   \n",
       "2  0  1467811184  Mon Apr 06 22:19:57 PDT 2009  NO_QUERY         ElleCTF   \n",
       "3  0  1467811193  Mon Apr 06 22:19:57 PDT 2009  NO_QUERY          Karoli   \n",
       "4  0  1467811372  Mon Apr 06 22:20:00 PDT 2009  NO_QUERY        joy_wolf   \n",
       "\n",
       "  @switchfoot http://twitpic.com/2y1zl - Awww, that's a bummer.  You shoulda got David Carr of Third Day to do it. ;D  \n",
       "0  is upset that he can't update his Facebook by ...                                                                   \n",
       "1  @Kenichan I dived many times for the ball. Man...                                                                   \n",
       "2    my whole body feels itchy and like its on fire                                                                    \n",
       "3  @nationwideclass no, it's not behaving at all....                                                                   \n",
       "4                      @Kwesidei not the whole crew                                                                    "
      ]
     },
     "execution_count": 11,
     "metadata": {},
     "output_type": "execute_result"
    }
   ],
   "source": [
    "dataset.head()"
   ]
  },
  {
   "cell_type": "code",
   "execution_count": 12,
   "id": "3d9a79a5-58fb-44b0-8911-701b2ee82c8a",
   "metadata": {},
   "outputs": [],
   "source": [
    "dataset=dataset.iloc[:, [2,4,5]]"
   ]
  },
  {
   "cell_type": "code",
   "execution_count": 13,
   "id": "dcb321c2-5acc-4c3a-b827-146c6cfb9246",
   "metadata": {},
   "outputs": [
    {
     "data": {
      "text/html": [
       "<div>\n",
       "<style scoped>\n",
       "    .dataframe tbody tr th:only-of-type {\n",
       "        vertical-align: middle;\n",
       "    }\n",
       "\n",
       "    .dataframe tbody tr th {\n",
       "        vertical-align: top;\n",
       "    }\n",
       "\n",
       "    .dataframe thead th {\n",
       "        text-align: right;\n",
       "    }\n",
       "</style>\n",
       "<table border=\"1\" class=\"dataframe\">\n",
       "  <thead>\n",
       "    <tr style=\"text-align: right;\">\n",
       "      <th></th>\n",
       "      <th>Mon Apr 06 22:19:45 PDT 2009</th>\n",
       "      <th>_TheSpecialOne_</th>\n",
       "      <th>@switchfoot http://twitpic.com/2y1zl - Awww, that's a bummer.  You shoulda got David Carr of Third Day to do it. ;D</th>\n",
       "    </tr>\n",
       "  </thead>\n",
       "  <tbody>\n",
       "    <tr>\n",
       "      <th>0</th>\n",
       "      <td>Mon Apr 06 22:19:49 PDT 2009</td>\n",
       "      <td>scotthamilton</td>\n",
       "      <td>is upset that he can't update his Facebook by ...</td>\n",
       "    </tr>\n",
       "    <tr>\n",
       "      <th>1</th>\n",
       "      <td>Mon Apr 06 22:19:53 PDT 2009</td>\n",
       "      <td>mattycus</td>\n",
       "      <td>@Kenichan I dived many times for the ball. Man...</td>\n",
       "    </tr>\n",
       "    <tr>\n",
       "      <th>2</th>\n",
       "      <td>Mon Apr 06 22:19:57 PDT 2009</td>\n",
       "      <td>ElleCTF</td>\n",
       "      <td>my whole body feels itchy and like its on fire</td>\n",
       "    </tr>\n",
       "    <tr>\n",
       "      <th>3</th>\n",
       "      <td>Mon Apr 06 22:19:57 PDT 2009</td>\n",
       "      <td>Karoli</td>\n",
       "      <td>@nationwideclass no, it's not behaving at all....</td>\n",
       "    </tr>\n",
       "    <tr>\n",
       "      <th>4</th>\n",
       "      <td>Mon Apr 06 22:20:00 PDT 2009</td>\n",
       "      <td>joy_wolf</td>\n",
       "      <td>@Kwesidei not the whole crew</td>\n",
       "    </tr>\n",
       "  </tbody>\n",
       "</table>\n",
       "</div>"
      ],
      "text/plain": [
       "   Mon Apr 06 22:19:45 PDT 2009 _TheSpecialOne_  \\\n",
       "0  Mon Apr 06 22:19:49 PDT 2009   scotthamilton   \n",
       "1  Mon Apr 06 22:19:53 PDT 2009        mattycus   \n",
       "2  Mon Apr 06 22:19:57 PDT 2009         ElleCTF   \n",
       "3  Mon Apr 06 22:19:57 PDT 2009          Karoli   \n",
       "4  Mon Apr 06 22:20:00 PDT 2009        joy_wolf   \n",
       "\n",
       "  @switchfoot http://twitpic.com/2y1zl - Awww, that's a bummer.  You shoulda got David Carr of Third Day to do it. ;D  \n",
       "0  is upset that he can't update his Facebook by ...                                                                   \n",
       "1  @Kenichan I dived many times for the ball. Man...                                                                   \n",
       "2    my whole body feels itchy and like its on fire                                                                    \n",
       "3  @nationwideclass no, it's not behaving at all....                                                                   \n",
       "4                      @Kwesidei not the whole crew                                                                    "
      ]
     },
     "execution_count": 13,
     "metadata": {},
     "output_type": "execute_result"
    }
   ],
   "source": [
    "dataset.head()"
   ]
  },
  {
   "cell_type": "code",
   "execution_count": 14,
   "id": "eaacac5e-07ae-4831-b100-59964d5846a8",
   "metadata": {},
   "outputs": [],
   "source": [
    "dataset.set_axis(['date', 'user', 'tweet'], axis=1, inplace=True)"
   ]
  },
  {
   "cell_type": "code",
   "execution_count": 15,
   "id": "5f7b73cd-109b-4a77-b1be-dcb311a14dd5",
   "metadata": {},
   "outputs": [
    {
     "data": {
      "text/html": [
       "<div>\n",
       "<style scoped>\n",
       "    .dataframe tbody tr th:only-of-type {\n",
       "        vertical-align: middle;\n",
       "    }\n",
       "\n",
       "    .dataframe tbody tr th {\n",
       "        vertical-align: top;\n",
       "    }\n",
       "\n",
       "    .dataframe thead th {\n",
       "        text-align: right;\n",
       "    }\n",
       "</style>\n",
       "<table border=\"1\" class=\"dataframe\">\n",
       "  <thead>\n",
       "    <tr style=\"text-align: right;\">\n",
       "      <th></th>\n",
       "      <th>date</th>\n",
       "      <th>user</th>\n",
       "      <th>tweet</th>\n",
       "    </tr>\n",
       "  </thead>\n",
       "  <tbody>\n",
       "    <tr>\n",
       "      <th>0</th>\n",
       "      <td>Mon Apr 06 22:19:49 PDT 2009</td>\n",
       "      <td>scotthamilton</td>\n",
       "      <td>is upset that he can't update his Facebook by ...</td>\n",
       "    </tr>\n",
       "    <tr>\n",
       "      <th>1</th>\n",
       "      <td>Mon Apr 06 22:19:53 PDT 2009</td>\n",
       "      <td>mattycus</td>\n",
       "      <td>@Kenichan I dived many times for the ball. Man...</td>\n",
       "    </tr>\n",
       "    <tr>\n",
       "      <th>2</th>\n",
       "      <td>Mon Apr 06 22:19:57 PDT 2009</td>\n",
       "      <td>ElleCTF</td>\n",
       "      <td>my whole body feels itchy and like its on fire</td>\n",
       "    </tr>\n",
       "    <tr>\n",
       "      <th>3</th>\n",
       "      <td>Mon Apr 06 22:19:57 PDT 2009</td>\n",
       "      <td>Karoli</td>\n",
       "      <td>@nationwideclass no, it's not behaving at all....</td>\n",
       "    </tr>\n",
       "    <tr>\n",
       "      <th>4</th>\n",
       "      <td>Mon Apr 06 22:20:00 PDT 2009</td>\n",
       "      <td>joy_wolf</td>\n",
       "      <td>@Kwesidei not the whole crew</td>\n",
       "    </tr>\n",
       "  </tbody>\n",
       "</table>\n",
       "</div>"
      ],
      "text/plain": [
       "                           date           user  \\\n",
       "0  Mon Apr 06 22:19:49 PDT 2009  scotthamilton   \n",
       "1  Mon Apr 06 22:19:53 PDT 2009       mattycus   \n",
       "2  Mon Apr 06 22:19:57 PDT 2009        ElleCTF   \n",
       "3  Mon Apr 06 22:19:57 PDT 2009         Karoli   \n",
       "4  Mon Apr 06 22:20:00 PDT 2009       joy_wolf   \n",
       "\n",
       "                                               tweet  \n",
       "0  is upset that he can't update his Facebook by ...  \n",
       "1  @Kenichan I dived many times for the ball. Man...  \n",
       "2    my whole body feels itchy and like its on fire   \n",
       "3  @nationwideclass no, it's not behaving at all....  \n",
       "4                      @Kwesidei not the whole crew   "
      ]
     },
     "execution_count": 15,
     "metadata": {},
     "output_type": "execute_result"
    }
   ],
   "source": [
    "dataset.head()"
   ]
  },
  {
   "cell_type": "markdown",
   "id": "27528752-c150-4cef-8f80-48578f41093e",
   "metadata": {},
   "source": [
    "# 2. Usuarios populares"
   ]
  },
  {
   "cell_type": "code",
   "execution_count": 19,
   "id": "238338f5-c1e0-4178-9621-3e8f4fba7d85",
   "metadata": {},
   "outputs": [],
   "source": [
    "def getUser(tweet):\n",
    "    regex=r\"@[a-zA-Z0-9]+\\s\"\n",
    "    try:\n",
    "        match=re.findall(regex, tweet)\n",
    "        match=match[0].replace(' ', '')\n",
    "    except:\n",
    "        pass\n",
    "    return match"
   ]
  },
  {
   "cell_type": "code",
   "execution_count": 21,
   "id": "8624ca1e-67cc-47f5-a27b-5fb4df540351",
   "metadata": {},
   "outputs": [],
   "source": [
    "users=dataset['tweet'].apply(getUser).dropna()\n"
   ]
  },
  {
   "cell_type": "code",
   "execution_count": 22,
   "id": "27c5657c-9da3-4ec8-9c71-96fa99bf96b6",
   "metadata": {},
   "outputs": [
    {
     "ename": "TypeError",
     "evalue": "unhashable type: 'list'",
     "output_type": "error",
     "traceback": [
      "\u001b[1;31m---------------------------------------------------------------------------\u001b[0m",
      "\u001b[1;31mTypeError\u001b[0m                                 Traceback (most recent call last)",
      "\u001b[1;32mpandas\\_libs\\hashtable_class_helper.pxi\u001b[0m in \u001b[0;36mpandas._libs.hashtable.PyObjectHashTable.map_locations\u001b[1;34m()\u001b[0m\n",
      "\u001b[1;31mTypeError\u001b[0m: unhashable type: 'list'"
     ]
    },
    {
     "name": "stderr",
     "output_type": "stream",
     "text": [
      "Exception ignored in: 'pandas._libs.index.IndexEngine._call_map_locations'\n",
      "Traceback (most recent call last):\n",
      "  File \"pandas\\_libs\\hashtable_class_helper.pxi\", line 5231, in pandas._libs.hashtable.PyObjectHashTable.map_locations\n",
      "TypeError: unhashable type: 'list'\n"
     ]
    },
    {
     "data": {
      "text/plain": [
       "[]                943463\n",
       "@mileycyrus         4142\n",
       "@tommcfly           3736\n",
       "@ddlovato           3166\n",
       "@Jonasbrothers      1209\n",
       "                   ...  \n",
       "@iralu1                1\n",
       "@lenahimechan          1\n",
       "@Suicidalbunny         1\n",
       "@furiousball           1\n",
       "@oxhot                 1\n",
       "Name: tweet, Length: 300821, dtype: int64"
      ]
     },
     "execution_count": 22,
     "metadata": {},
     "output_type": "execute_result"
    }
   ],
   "source": [
    "users.value_counts()"
   ]
  },
  {
   "cell_type": "markdown",
   "id": "71be29a2-74bd-4b61-8baf-747b00b149e9",
   "metadata": {},
   "source": [
    "#### Corpus @mileycyrus"
   ]
  },
  {
   "cell_type": "code",
   "execution_count": 23,
   "id": "2766084a-6a79-4c1e-aabe-ec2fc17b2020",
   "metadata": {},
   "outputs": [
    {
     "data": {
      "text/html": [
       "<div>\n",
       "<style scoped>\n",
       "    .dataframe tbody tr th:only-of-type {\n",
       "        vertical-align: middle;\n",
       "    }\n",
       "\n",
       "    .dataframe tbody tr th {\n",
       "        vertical-align: top;\n",
       "    }\n",
       "\n",
       "    .dataframe thead th {\n",
       "        text-align: right;\n",
       "    }\n",
       "</style>\n",
       "<table border=\"1\" class=\"dataframe\">\n",
       "  <thead>\n",
       "    <tr style=\"text-align: right;\">\n",
       "      <th></th>\n",
       "      <th>date</th>\n",
       "      <th>user</th>\n",
       "      <th>tweet</th>\n",
       "    </tr>\n",
       "  </thead>\n",
       "  <tbody>\n",
       "    <tr>\n",
       "      <th>1020</th>\n",
       "      <td>Mon Apr 06 23:30:57 PDT 2009</td>\n",
       "      <td>kristenn_lynn</td>\n",
       "      <td>@mileycyrus hahaha dont be like that one time ...</td>\n",
       "    </tr>\n",
       "    <tr>\n",
       "      <th>2013</th>\n",
       "      <td>Tue Apr 07 00:45:20 PDT 2009</td>\n",
       "      <td>nathiuria</td>\n",
       "      <td>@mileycyrus i have the same problem, but it's ...</td>\n",
       "    </tr>\n",
       "    <tr>\n",
       "      <th>2072</th>\n",
       "      <td>Tue Apr 07 00:49:07 PDT 2009</td>\n",
       "      <td>amyamoore</td>\n",
       "      <td>@mileycyrus I guess counting sheep didn't work...</td>\n",
       "    </tr>\n",
       "    <tr>\n",
       "      <th>2079</th>\n",
       "      <td>Tue Apr 07 00:49:44 PDT 2009</td>\n",
       "      <td>xdokkenx</td>\n",
       "      <td>@mileycyrus I would too if it meant spending a...</td>\n",
       "    </tr>\n",
       "    <tr>\n",
       "      <th>2155</th>\n",
       "      <td>Tue Apr 07 00:56:41 PDT 2009</td>\n",
       "      <td>XFearLessX</td>\n",
       "      <td>@mileycyrus AWWW u seriously have the cutest d...</td>\n",
       "    </tr>\n",
       "  </tbody>\n",
       "</table>\n",
       "</div>"
      ],
      "text/plain": [
       "                              date           user  \\\n",
       "1020  Mon Apr 06 23:30:57 PDT 2009  kristenn_lynn   \n",
       "2013  Tue Apr 07 00:45:20 PDT 2009      nathiuria   \n",
       "2072  Tue Apr 07 00:49:07 PDT 2009      amyamoore   \n",
       "2079  Tue Apr 07 00:49:44 PDT 2009       xdokkenx   \n",
       "2155  Tue Apr 07 00:56:41 PDT 2009     XFearLessX   \n",
       "\n",
       "                                                  tweet  \n",
       "1020  @mileycyrus hahaha dont be like that one time ...  \n",
       "2013  @mileycyrus i have the same problem, but it's ...  \n",
       "2072  @mileycyrus I guess counting sheep didn't work...  \n",
       "2079  @mileycyrus I would too if it meant spending a...  \n",
       "2155  @mileycyrus AWWW u seriously have the cutest d...  "
      ]
     },
     "execution_count": 23,
     "metadata": {},
     "output_type": "execute_result"
    }
   ],
   "source": [
    "mileycyrusCorpus=dataset[dataset['tweet'].str.contains(\"@mileycyrus\")]\n",
    "mileycyrusCorpus.head()"
   ]
  },
  {
   "cell_type": "markdown",
   "id": "9624d069-816a-4552-8a2c-285bdb6900cd",
   "metadata": {},
   "source": [
    "#### Corpus @tommcfly"
   ]
  },
  {
   "cell_type": "code",
   "execution_count": 24,
   "id": "706ce225-bff9-4594-9fab-595b182095be",
   "metadata": {},
   "outputs": [
    {
     "data": {
      "text/html": [
       "<div>\n",
       "<style scoped>\n",
       "    .dataframe tbody tr th:only-of-type {\n",
       "        vertical-align: middle;\n",
       "    }\n",
       "\n",
       "    .dataframe tbody tr th {\n",
       "        vertical-align: top;\n",
       "    }\n",
       "\n",
       "    .dataframe thead th {\n",
       "        text-align: right;\n",
       "    }\n",
       "</style>\n",
       "<table border=\"1\" class=\"dataframe\">\n",
       "  <thead>\n",
       "    <tr style=\"text-align: right;\">\n",
       "      <th></th>\n",
       "      <th>date</th>\n",
       "      <th>user</th>\n",
       "      <th>tweet</th>\n",
       "    </tr>\n",
       "  </thead>\n",
       "  <tbody>\n",
       "    <tr>\n",
       "      <th>1689</th>\n",
       "      <td>Tue Apr 07 00:19:09 PDT 2009</td>\n",
       "      <td>mcsteph94</td>\n",
       "      <td>@tommcfly hey saw u guys play @ pushover..didn...</td>\n",
       "    </tr>\n",
       "    <tr>\n",
       "      <th>1788</th>\n",
       "      <td>Tue Apr 07 00:26:52 PDT 2009</td>\n",
       "      <td>mcflyholland</td>\n",
       "      <td>@tommcfly Good morning Tom! Why can't I send y...</td>\n",
       "    </tr>\n",
       "    <tr>\n",
       "      <th>2513</th>\n",
       "      <td>Tue Apr 07 01:23:07 PDT 2009</td>\n",
       "      <td>ckstarlet</td>\n",
       "      <td>@tommcfly did you know that johnsons baby use ...</td>\n",
       "    </tr>\n",
       "    <tr>\n",
       "      <th>3028</th>\n",
       "      <td>Tue Apr 07 02:03:41 PDT 2009</td>\n",
       "      <td>McFLYBelgium</td>\n",
       "      <td>@dougiemcfly @tommcfly good morning guys, how ...</td>\n",
       "    </tr>\n",
       "    <tr>\n",
       "      <th>3523</th>\n",
       "      <td>Tue Apr 07 02:46:02 PDT 2009</td>\n",
       "      <td>lilmissvik</td>\n",
       "      <td>@tommcfly hey, no chance of adding brighton or...</td>\n",
       "    </tr>\n",
       "  </tbody>\n",
       "</table>\n",
       "</div>"
      ],
      "text/plain": [
       "                              date          user  \\\n",
       "1689  Tue Apr 07 00:19:09 PDT 2009     mcsteph94   \n",
       "1788  Tue Apr 07 00:26:52 PDT 2009  mcflyholland   \n",
       "2513  Tue Apr 07 01:23:07 PDT 2009     ckstarlet   \n",
       "3028  Tue Apr 07 02:03:41 PDT 2009  McFLYBelgium   \n",
       "3523  Tue Apr 07 02:46:02 PDT 2009    lilmissvik   \n",
       "\n",
       "                                                  tweet  \n",
       "1689  @tommcfly hey saw u guys play @ pushover..didn...  \n",
       "1788  @tommcfly Good morning Tom! Why can't I send y...  \n",
       "2513  @tommcfly did you know that johnsons baby use ...  \n",
       "3028  @dougiemcfly @tommcfly good morning guys, how ...  \n",
       "3523  @tommcfly hey, no chance of adding brighton or...  "
      ]
     },
     "execution_count": 24,
     "metadata": {},
     "output_type": "execute_result"
    }
   ],
   "source": [
    "tommcflyCorpus=dataset[dataset['tweet'].str.contains(\"@tommcfly\")]\n",
    "tommcflyCorpus.head()"
   ]
  },
  {
   "cell_type": "markdown",
   "id": "0d9a01d4-04e0-43ed-bf91-31cf44872c60",
   "metadata": {},
   "source": [
    "#### Corpus @ddlovato"
   ]
  },
  {
   "cell_type": "code",
   "execution_count": 25,
   "id": "cd217e95-71e3-4fb9-be23-b957a5860121",
   "metadata": {},
   "outputs": [
    {
     "data": {
      "text/html": [
       "<div>\n",
       "<style scoped>\n",
       "    .dataframe tbody tr th:only-of-type {\n",
       "        vertical-align: middle;\n",
       "    }\n",
       "\n",
       "    .dataframe tbody tr th {\n",
       "        vertical-align: top;\n",
       "    }\n",
       "\n",
       "    .dataframe thead th {\n",
       "        text-align: right;\n",
       "    }\n",
       "</style>\n",
       "<table border=\"1\" class=\"dataframe\">\n",
       "  <thead>\n",
       "    <tr style=\"text-align: right;\">\n",
       "      <th></th>\n",
       "      <th>date</th>\n",
       "      <th>user</th>\n",
       "      <th>tweet</th>\n",
       "    </tr>\n",
       "  </thead>\n",
       "  <tbody>\n",
       "    <tr>\n",
       "      <th>459</th>\n",
       "      <td>Mon Apr 06 22:51:34 PDT 2009</td>\n",
       "      <td>toritor11</td>\n",
       "      <td>@ddlovato @David_Henrie ummmmm i cant find it.</td>\n",
       "    </tr>\n",
       "    <tr>\n",
       "      <th>572</th>\n",
       "      <td>Mon Apr 06 22:58:30 PDT 2009</td>\n",
       "      <td>lovatolover</td>\n",
       "      <td>@ddlovato Do you hate us?? Please don't</td>\n",
       "    </tr>\n",
       "    <tr>\n",
       "      <th>7031</th>\n",
       "      <td>Tue Apr 07 07:02:58 PDT 2009</td>\n",
       "      <td>mariapersson</td>\n",
       "      <td>@ddlovato Wish that i could see it..  Thats th...</td>\n",
       "    </tr>\n",
       "    <tr>\n",
       "      <th>7088</th>\n",
       "      <td>Tue Apr 07 07:05:11 PDT 2009</td>\n",
       "      <td>xxBEJEALOUSxx</td>\n",
       "      <td>@ddlovato hey demi, wen are you and selena gon...</td>\n",
       "    </tr>\n",
       "    <tr>\n",
       "      <th>8610</th>\n",
       "      <td>Fri Apr 17 20:31:31 PDT 2009</td>\n",
       "      <td>Julie_Dances</td>\n",
       "      <td>@ddlovato ahhhh i wish i could go to the dalla...</td>\n",
       "    </tr>\n",
       "  </tbody>\n",
       "</table>\n",
       "</div>"
      ],
      "text/plain": [
       "                              date           user  \\\n",
       "459   Mon Apr 06 22:51:34 PDT 2009      toritor11   \n",
       "572   Mon Apr 06 22:58:30 PDT 2009    lovatolover   \n",
       "7031  Tue Apr 07 07:02:58 PDT 2009   mariapersson   \n",
       "7088  Tue Apr 07 07:05:11 PDT 2009  xxBEJEALOUSxx   \n",
       "8610  Fri Apr 17 20:31:31 PDT 2009   Julie_Dances   \n",
       "\n",
       "                                                  tweet  \n",
       "459     @ddlovato @David_Henrie ummmmm i cant find it.   \n",
       "572            @ddlovato Do you hate us?? Please don't   \n",
       "7031  @ddlovato Wish that i could see it..  Thats th...  \n",
       "7088  @ddlovato hey demi, wen are you and selena gon...  \n",
       "8610  @ddlovato ahhhh i wish i could go to the dalla...  "
      ]
     },
     "execution_count": 25,
     "metadata": {},
     "output_type": "execute_result"
    }
   ],
   "source": [
    "ddlovatoCorpus=dataset[dataset['tweet'].str.contains(\"@ddlovato\")]\n",
    "ddlovatoCorpus.head()"
   ]
  },
  {
   "cell_type": "markdown",
   "id": "891827c2-5c8e-41c2-ad78-ab0f8da17a8f",
   "metadata": {},
   "source": [
    "# 3. Preprocesamiento"
   ]
  },
  {
   "cell_type": "markdown",
   "id": "f87cae06-8264-44fb-8f14-5eba1b558fa0",
   "metadata": {},
   "source": [
    "#### Normalización de texto"
   ]
  },
  {
   "cell_type": "code",
   "execution_count": 26,
   "id": "14692e5c-b9a2-4454-8cc0-ec31ad1db721",
   "metadata": {},
   "outputs": [],
   "source": [
    "def normalize_text(corpus):\n",
    "    newCorpus = []\n",
    "    for doc in corpus:\n",
    "        newCorpus.append(re.sub(r'[^a-zA-Z0-9\\s{1}áéíóúüñÁÉÍÓÚÑ]', '', doc).lower().strip().rstrip('\\n').rstrip('\\r\\n'))\n",
    "    return newCorpus"
   ]
  },
  {
   "cell_type": "code",
   "execution_count": 31,
   "id": "eada899d-d0d8-41ad-8314-4ca250ffe469",
   "metadata": {},
   "outputs": [],
   "source": [
    "mileycyrusCorpusText=normalize_text(mileycyrusCorpus['tweet'])"
   ]
  },
  {
   "cell_type": "code",
   "execution_count": 33,
   "id": "3b9d2d26-c585-4c88-8821-34fe518a1ad7",
   "metadata": {},
   "outputs": [],
   "source": [
    "tommcflyCorpusText=normalize_text(tommcflyCorpus['tweet'])"
   ]
  },
  {
   "cell_type": "code",
   "execution_count": 34,
   "id": "3fb63c78-37d5-40d9-bdfe-3a650c91554c",
   "metadata": {},
   "outputs": [],
   "source": [
    "ddlovatoCorpusText=normalize_text(ddlovatoCorpus['tweet'])"
   ]
  },
  {
   "cell_type": "markdown",
   "id": "10880db4-a1c7-4a8d-a277-960e899922d0",
   "metadata": {},
   "source": [
    "#### Tokenización"
   ]
  },
  {
   "cell_type": "code",
   "execution_count": 38,
   "id": "50cc9874-34f8-4a9b-b408-58df8e78f19b",
   "metadata": {},
   "outputs": [],
   "source": [
    "def tokenization(corpus):\n",
    "    newCorpus = []\n",
    "    for doc in corpus:\n",
    "        newCorpus.append(nlp_en_sm(doc))\n",
    "    return newCorpus"
   ]
  },
  {
   "cell_type": "code",
   "execution_count": 39,
   "id": "ac9f4f69-d107-4a43-932f-8e951d07bbef",
   "metadata": {},
   "outputs": [],
   "source": [
    "mileycyrusCorpusToken=tokenization(mileycyrusCorpusText)"
   ]
  },
  {
   "cell_type": "code",
   "execution_count": 41,
   "id": "96364fcf-56e0-41c0-bcbe-526b3b6bccc0",
   "metadata": {},
   "outputs": [],
   "source": [
    "tommcflyCorpusToken=tokenization(tommcflyCorpusText)"
   ]
  },
  {
   "cell_type": "code",
   "execution_count": 42,
   "id": "403f5e81-2f7b-41b6-bcf7-ce4f3ecc3103",
   "metadata": {},
   "outputs": [],
   "source": [
    "ddlovatoCorpusToken=tokenization(ddlovatoCorpusText)"
   ]
  },
  {
   "cell_type": "markdown",
   "id": "908042a7-5d7c-48e5-b547-b3ca604c21bc",
   "metadata": {},
   "source": [
    "#### Stopwords"
   ]
  },
  {
   "cell_type": "code",
   "execution_count": 43,
   "id": "d2dc374c-997f-4295-8f07-3ece8a250e7f",
   "metadata": {},
   "outputs": [],
   "source": [
    "def removeStops(corpus):\n",
    "    newCorpus = []\n",
    "    for doc in corpus:\n",
    "        s = ''\n",
    "        for token in doc:\n",
    "            if(token.is_stop == False):\n",
    "                s = s + token.text + ' '\n",
    "        newCorpus.append(s.strip())\n",
    "    return newCorpus"
   ]
  },
  {
   "cell_type": "code",
   "execution_count": 44,
   "id": "2c2e81e1-ffa4-4a8e-8303-22f47fee6ede",
   "metadata": {},
   "outputs": [],
   "source": [
    "mileycyrusCorpusStopwords = removeStops(mileycyrusCorpusToken)"
   ]
  },
  {
   "cell_type": "code",
   "execution_count": 46,
   "id": "5d57d54e-9b17-4192-98c4-f0ec70005c0d",
   "metadata": {},
   "outputs": [],
   "source": [
    "tommcflyCorpusStopwords = removeStops(tommcflyCorpusToken)"
   ]
  },
  {
   "cell_type": "code",
   "execution_count": 47,
   "id": "841b6397-a751-4d3c-9a74-cbd3371d7efe",
   "metadata": {},
   "outputs": [],
   "source": [
    "ddlovatoCorpusStopwords = removeStops(ddlovatoCorpusToken)"
   ]
  },
  {
   "cell_type": "markdown",
   "id": "d28cb740-a132-4fd9-bd2a-cfc2716d51e3",
   "metadata": {},
   "source": [
    "#### Stemming y Lemmatization."
   ]
  },
  {
   "cell_type": "code",
   "execution_count": 49,
   "id": "449bcd23-1b25-4ca8-bf87-3e7b2c8134a7",
   "metadata": {},
   "outputs": [],
   "source": [
    "def stemming_lemmatization(corpus):\n",
    "    docs = tokenization(corpus)\n",
    "    newCorpus = []\n",
    "    for doc in docs:\n",
    "        s = ''\n",
    "        for token in doc:\n",
    "            s = s + token.lemma_ + ' '\n",
    "        newCorpus.append(s.strip())\n",
    "    return newCorpus"
   ]
  },
  {
   "cell_type": "code",
   "execution_count": 59,
   "id": "1a5c86db-5a36-4934-b034-d3c69814ec44",
   "metadata": {},
   "outputs": [],
   "source": [
    "mileycyrusCorpusSL = stemming_lemmatization(mileycyrusCorpusStopwords)"
   ]
  },
  {
   "cell_type": "code",
   "execution_count": 51,
   "id": "b5094459-e9fc-4175-9136-1af3222f9484",
   "metadata": {},
   "outputs": [],
   "source": [
    "tommcflyCorpusSL = stemming_lemmatization(tommcflyCorpusStopwords)"
   ]
  },
  {
   "cell_type": "code",
   "execution_count": 52,
   "id": "a009c3ac-cb14-4885-910d-4c425e60d363",
   "metadata": {},
   "outputs": [],
   "source": [
    "ddlovatoCorpusSL = stemming_lemmatization(ddlovatoCorpusStopwords)"
   ]
  },
  {
   "cell_type": "code",
   "execution_count": 54,
   "id": "cd242100-7bed-483e-a7ae-03ce385d878e",
   "metadata": {},
   "outputs": [],
   "source": [
    "def corpus2String(corpus):\n",
    "    strX = ''\n",
    "    for doc in corpus:\n",
    "        strX = strX + doc + ' '\n",
    "    return strX"
   ]
  },
  {
   "cell_type": "code",
   "execution_count": 75,
   "id": "d0c44192-332f-4086-a4f1-a6f7d1baa029",
   "metadata": {},
   "outputs": [],
   "source": [
    "mileycyrusCorpusSL2 = corpus2String(mileycyrusCorpusSL)\n",
    "tommcflyCorpusSL2 = corpus2String(tommcflyCorpusSL)\n",
    "ddlovatoCorpusSL2 = corpus2String(ddlovatoCorpusSL)"
   ]
  },
  {
   "cell_type": "code",
   "execution_count": 76,
   "id": "5021c1f3-596b-4420-adc1-bccab5f06f44",
   "metadata": {},
   "outputs": [],
   "source": [
    "mileycyrusCorpusSL2 = mileycyrusCorpusSL2.strip().split(' ')\n",
    "tommcflyCorpusSL2 = tommcflyCorpusSL2.strip().split(' ')\n",
    "ddlovatoCorpusSL2 = ddlovatoCorpusSL2.strip().split(' ')"
   ]
  },
  {
   "cell_type": "code",
   "execution_count": 77,
   "id": "e5e66c50-f4e6-4a90-8f97-66ba2451461f",
   "metadata": {},
   "outputs": [],
   "source": [
    "mileycyrusCorpusSL3 = set(mileycyrusCorpusSL2)\n",
    "tommcflyCorpusSL3 = set(tommcflyCorpusSL2)\n",
    "ddlovatoCorpusSL3 = set(ddlovatoCorpusSL2)"
   ]
  },
  {
   "cell_type": "code",
   "execution_count": 63,
   "id": "2a02dd7e-5c89-448a-a4f1-ccecf6f514a9",
   "metadata": {},
   "outputs": [
    {
     "data": {
      "text/plain": [
       "(4491, 4974)"
      ]
     },
     "execution_count": 63,
     "metadata": {},
     "output_type": "execute_result"
    }
   ],
   "source": [
    "ncol = len(mileycyrusCorpusSL3)\n",
    "nrow = len(mileycyrusCorpusSL)\n",
    "nrow, ncol"
   ]
  },
  {
   "cell_type": "code",
   "execution_count": 64,
   "id": "34610ee8-ca68-406b-afcd-1b921e3401b5",
   "metadata": {},
   "outputs": [],
   "source": [
    "def generateEmptyMatrix(cols, rows):\n",
    "    outDf = pd.DataFrame(index=rows, columns=cols)\n",
    "    outDf.fillna(0, inplace=True)\n",
    "    return outDf"
   ]
  },
  {
   "cell_type": "code",
   "execution_count": 78,
   "id": "10d515df-7c59-42ec-8cda-57438560f0b6",
   "metadata": {},
   "outputs": [],
   "source": [
    "cols = list(mileycyrusCorpusSL3)\n",
    "rows = range(0, len(mileycyrusCorpusSL))\n",
    "\n",
    "colstommcflyCorpusSL = list(tommcflyCorpusSL3)\n",
    "rowstommcflyCorpusSL = range(0, len(tommcflyCorpusSL))\n",
    "\n",
    "colsddlovatoCorpusSL = list(ddlovatoCorpusSL3)\n",
    "rowsddlovatoCorpusSL = range(0, len(ddlovatoCorpusSL))"
   ]
  },
  {
   "cell_type": "code",
   "execution_count": 79,
   "id": "cf67692b-d3ba-4524-9f29-e2a8343612d1",
   "metadata": {},
   "outputs": [],
   "source": [
    "tfMatrix = generateEmptyMatrix(cols, rows)\n",
    "tfMatrixtommcflyCorpusSL = generateEmptyMatrix(colstommcflyCorpusSL, rowstommcflyCorpusSL)\n",
    "tfMatrixddlovatoCorpusSL = generateEmptyMatrix(colsddlovatoCorpusSL, rowsddlovatoCorpusSL)\n"
   ]
  },
  {
   "cell_type": "code",
   "execution_count": 71,
   "id": "0c1436a8-162a-4192-a085-a08fb0f8d698",
   "metadata": {},
   "outputs": [],
   "source": [
    "def calculoTf(corpus, df):\n",
    "    corpus = tokenization(corpus)\n",
    "    for index, doc in enumerate(corpus):\n",
    "        docSize = len(doc)\n",
    "        for token in doc:\n",
    "            try:\n",
    "                colIndex = list(df.columns).index(token.text)\n",
    "                df.iloc[index, colIndex] = df.iloc[index, colIndex] + 1\n",
    "            except:\n",
    "                pass\n",
    "        df.iloc[index, :] = df.iloc[index, :] / docSize\n",
    "    return df"
   ]
  },
  {
   "cell_type": "markdown",
   "id": "d1266c6e-917e-453f-8b36-fc4c7a51af95",
   "metadata": {},
   "source": [
    "#### BOW mileycyrusCorpusSL"
   ]
  },
  {
   "cell_type": "code",
   "execution_count": 72,
   "id": "b69fd3d2-abdf-43a2-b249-0fe0f7e70208",
   "metadata": {},
   "outputs": [],
   "source": [
    "tfMatrix = calculoTf(mileycyrusCorpusSL, tfMatrix)"
   ]
  },
  {
   "cell_type": "code",
   "execution_count": 74,
   "id": "af24593e-2f91-4dff-93c1-4bdfb57940b7",
   "metadata": {},
   "outputs": [],
   "source": [
    "tfMatrix.to_csv(\"mileycyrusCorpusSL_Matrix.csv\", index=False)"
   ]
  },
  {
   "cell_type": "markdown",
   "id": "a0f1d632-86b8-4208-88b1-51ab12df050d",
   "metadata": {},
   "source": [
    "#### BOW tommcflyCorpusSL"
   ]
  },
  {
   "cell_type": "code",
   "execution_count": 85,
   "id": "2df81ee6-83b7-43f9-95f3-100a76df0714",
   "metadata": {},
   "outputs": [
    {
     "data": {
      "text/html": [
       "<div>\n",
       "<style scoped>\n",
       "    .dataframe tbody tr th:only-of-type {\n",
       "        vertical-align: middle;\n",
       "    }\n",
       "\n",
       "    .dataframe tbody tr th {\n",
       "        vertical-align: top;\n",
       "    }\n",
       "\n",
       "    .dataframe thead th {\n",
       "        text-align: right;\n",
       "    }\n",
       "</style>\n",
       "<table border=\"1\" class=\"dataframe\">\n",
       "  <thead>\n",
       "    <tr style=\"text-align: right;\">\n",
       "      <th></th>\n",
       "      <th></th>\n",
       "      <th>stay</th>\n",
       "      <th>foodhaha</th>\n",
       "      <th>test</th>\n",
       "      <th>asap</th>\n",
       "      <th>venezuela</th>\n",
       "      <th>mrtwiiter</th>\n",
       "      <th>nibble</th>\n",
       "      <th>internet</th>\n",
       "      <th>look</th>\n",
       "      <th>...</th>\n",
       "      <th>light</th>\n",
       "      <th>ono</th>\n",
       "      <th>meaaannn</th>\n",
       "      <th>campus</th>\n",
       "      <th>itand</th>\n",
       "      <th>becoz</th>\n",
       "      <th>window</th>\n",
       "      <th>3s</th>\n",
       "      <th>duda</th>\n",
       "      <th>vary</th>\n",
       "    </tr>\n",
       "  </thead>\n",
       "  <tbody>\n",
       "    <tr>\n",
       "      <th>0</th>\n",
       "      <td>0</td>\n",
       "      <td>0.0</td>\n",
       "      <td>0</td>\n",
       "      <td>0.000000</td>\n",
       "      <td>0</td>\n",
       "      <td>0</td>\n",
       "      <td>0</td>\n",
       "      <td>0</td>\n",
       "      <td>0.0</td>\n",
       "      <td>0.0</td>\n",
       "      <td>...</td>\n",
       "      <td>0</td>\n",
       "      <td>0</td>\n",
       "      <td>0</td>\n",
       "      <td>0</td>\n",
       "      <td>0</td>\n",
       "      <td>0</td>\n",
       "      <td>0</td>\n",
       "      <td>0</td>\n",
       "      <td>0</td>\n",
       "      <td>0</td>\n",
       "    </tr>\n",
       "    <tr>\n",
       "      <th>1</th>\n",
       "      <td>0</td>\n",
       "      <td>0.0</td>\n",
       "      <td>0</td>\n",
       "      <td>0.000000</td>\n",
       "      <td>0</td>\n",
       "      <td>0</td>\n",
       "      <td>0</td>\n",
       "      <td>0</td>\n",
       "      <td>0.0</td>\n",
       "      <td>0.0</td>\n",
       "      <td>...</td>\n",
       "      <td>0</td>\n",
       "      <td>0</td>\n",
       "      <td>0</td>\n",
       "      <td>0</td>\n",
       "      <td>0</td>\n",
       "      <td>0</td>\n",
       "      <td>0</td>\n",
       "      <td>0</td>\n",
       "      <td>0</td>\n",
       "      <td>0</td>\n",
       "    </tr>\n",
       "    <tr>\n",
       "      <th>2</th>\n",
       "      <td>0</td>\n",
       "      <td>0.0</td>\n",
       "      <td>0</td>\n",
       "      <td>0.090909</td>\n",
       "      <td>0</td>\n",
       "      <td>0</td>\n",
       "      <td>0</td>\n",
       "      <td>0</td>\n",
       "      <td>0.0</td>\n",
       "      <td>0.0</td>\n",
       "      <td>...</td>\n",
       "      <td>0</td>\n",
       "      <td>0</td>\n",
       "      <td>0</td>\n",
       "      <td>0</td>\n",
       "      <td>0</td>\n",
       "      <td>0</td>\n",
       "      <td>0</td>\n",
       "      <td>0</td>\n",
       "      <td>0</td>\n",
       "      <td>0</td>\n",
       "    </tr>\n",
       "    <tr>\n",
       "      <th>3</th>\n",
       "      <td>0</td>\n",
       "      <td>0.0</td>\n",
       "      <td>0</td>\n",
       "      <td>0.000000</td>\n",
       "      <td>0</td>\n",
       "      <td>0</td>\n",
       "      <td>0</td>\n",
       "      <td>0</td>\n",
       "      <td>0.0</td>\n",
       "      <td>0.0</td>\n",
       "      <td>...</td>\n",
       "      <td>0</td>\n",
       "      <td>0</td>\n",
       "      <td>0</td>\n",
       "      <td>0</td>\n",
       "      <td>0</td>\n",
       "      <td>0</td>\n",
       "      <td>0</td>\n",
       "      <td>0</td>\n",
       "      <td>0</td>\n",
       "      <td>0</td>\n",
       "    </tr>\n",
       "    <tr>\n",
       "      <th>4</th>\n",
       "      <td>0</td>\n",
       "      <td>0.0</td>\n",
       "      <td>0</td>\n",
       "      <td>0.000000</td>\n",
       "      <td>0</td>\n",
       "      <td>0</td>\n",
       "      <td>0</td>\n",
       "      <td>0</td>\n",
       "      <td>0.0</td>\n",
       "      <td>0.0</td>\n",
       "      <td>...</td>\n",
       "      <td>0</td>\n",
       "      <td>0</td>\n",
       "      <td>0</td>\n",
       "      <td>0</td>\n",
       "      <td>0</td>\n",
       "      <td>0</td>\n",
       "      <td>0</td>\n",
       "      <td>0</td>\n",
       "      <td>0</td>\n",
       "      <td>0</td>\n",
       "    </tr>\n",
       "  </tbody>\n",
       "</table>\n",
       "<p>5 rows × 4372 columns</p>\n",
       "</div>"
      ],
      "text/plain": [
       "      stay  foodhaha      test  asap  venezuela  mrtwiiter  nibble  internet  \\\n",
       "0  0   0.0         0  0.000000     0          0          0       0       0.0   \n",
       "1  0   0.0         0  0.000000     0          0          0       0       0.0   \n",
       "2  0   0.0         0  0.090909     0          0          0       0       0.0   \n",
       "3  0   0.0         0  0.000000     0          0          0       0       0.0   \n",
       "4  0   0.0         0  0.000000     0          0          0       0       0.0   \n",
       "\n",
       "   look  ...  light  ono  meaaannn  campus  itand  becoz  window  3s  duda  \\\n",
       "0   0.0  ...      0    0         0       0      0      0       0   0     0   \n",
       "1   0.0  ...      0    0         0       0      0      0       0   0     0   \n",
       "2   0.0  ...      0    0         0       0      0      0       0   0     0   \n",
       "3   0.0  ...      0    0         0       0      0      0       0   0     0   \n",
       "4   0.0  ...      0    0         0       0      0      0       0   0     0   \n",
       "\n",
       "   vary  \n",
       "0     0  \n",
       "1     0  \n",
       "2     0  \n",
       "3     0  \n",
       "4     0  \n",
       "\n",
       "[5 rows x 4372 columns]"
      ]
     },
     "execution_count": 85,
     "metadata": {},
     "output_type": "execute_result"
    }
   ],
   "source": [
    "tfMatrixtommcflyCorpusSL.head()"
   ]
  },
  {
   "cell_type": "code",
   "execution_count": 86,
   "id": "954e42ac-746a-4533-8a1c-c75b7123e952",
   "metadata": {},
   "outputs": [],
   "source": [
    "tfMatrixtommcflyCorpusSL = calculoTf(tommcflyCorpusSL, tfMatrixtommcflyCorpusSL)"
   ]
  },
  {
   "cell_type": "code",
   "execution_count": 87,
   "id": "2fd0ba1d-2281-4a86-af8d-5ba45ecb2cfc",
   "metadata": {},
   "outputs": [],
   "source": [
    "tfMatrixtommcflyCorpusSL.to_csv(\"tommcflyCorpusSL_Matrix.csv\", index=False)"
   ]
  },
  {
   "cell_type": "markdown",
   "id": "66ab3e52-b8b8-45f9-9e5b-65070b7ce521",
   "metadata": {},
   "source": [
    "#### BOW ddlovatoCorpusSL"
   ]
  },
  {
   "cell_type": "code",
   "execution_count": 88,
   "id": "34b1ebb8-d696-4d3f-95e0-f91c68f58dfd",
   "metadata": {},
   "outputs": [
    {
     "data": {
      "text/html": [
       "<div>\n",
       "<style scoped>\n",
       "    .dataframe tbody tr th:only-of-type {\n",
       "        vertical-align: middle;\n",
       "    }\n",
       "\n",
       "    .dataframe tbody tr th {\n",
       "        vertical-align: top;\n",
       "    }\n",
       "\n",
       "    .dataframe thead th {\n",
       "        text-align: right;\n",
       "    }\n",
       "</style>\n",
       "<table border=\"1\" class=\"dataframe\">\n",
       "  <thead>\n",
       "    <tr style=\"text-align: right;\">\n",
       "      <th></th>\n",
       "      <th></th>\n",
       "      <th>rewind</th>\n",
       "      <th>stay</th>\n",
       "      <th>stamford</th>\n",
       "      <th>test</th>\n",
       "      <th>venezuela</th>\n",
       "      <th>crappy</th>\n",
       "      <th>belong</th>\n",
       "      <th>nicksantino</th>\n",
       "      <th>internet</th>\n",
       "      <th>...</th>\n",
       "      <th>soo</th>\n",
       "      <th>gah</th>\n",
       "      <th>real</th>\n",
       "      <th>vaca</th>\n",
       "      <th>light</th>\n",
       "      <th>window</th>\n",
       "      <th>sushi</th>\n",
       "      <th>congratulations</th>\n",
       "      <th>stalker</th>\n",
       "      <th>rodanthe</th>\n",
       "    </tr>\n",
       "  </thead>\n",
       "  <tbody>\n",
       "    <tr>\n",
       "      <th>0</th>\n",
       "      <td>0</td>\n",
       "      <td>0</td>\n",
       "      <td>0</td>\n",
       "      <td>0</td>\n",
       "      <td>0</td>\n",
       "      <td>0</td>\n",
       "      <td>0</td>\n",
       "      <td>0</td>\n",
       "      <td>0</td>\n",
       "      <td>0</td>\n",
       "      <td>...</td>\n",
       "      <td>0</td>\n",
       "      <td>0</td>\n",
       "      <td>0</td>\n",
       "      <td>0</td>\n",
       "      <td>0</td>\n",
       "      <td>0</td>\n",
       "      <td>0</td>\n",
       "      <td>0</td>\n",
       "      <td>0</td>\n",
       "      <td>0</td>\n",
       "    </tr>\n",
       "    <tr>\n",
       "      <th>1</th>\n",
       "      <td>0</td>\n",
       "      <td>0</td>\n",
       "      <td>0</td>\n",
       "      <td>0</td>\n",
       "      <td>0</td>\n",
       "      <td>0</td>\n",
       "      <td>0</td>\n",
       "      <td>0</td>\n",
       "      <td>0</td>\n",
       "      <td>0</td>\n",
       "      <td>...</td>\n",
       "      <td>0</td>\n",
       "      <td>0</td>\n",
       "      <td>0</td>\n",
       "      <td>0</td>\n",
       "      <td>0</td>\n",
       "      <td>0</td>\n",
       "      <td>0</td>\n",
       "      <td>0</td>\n",
       "      <td>0</td>\n",
       "      <td>0</td>\n",
       "    </tr>\n",
       "    <tr>\n",
       "      <th>2</th>\n",
       "      <td>0</td>\n",
       "      <td>0</td>\n",
       "      <td>0</td>\n",
       "      <td>0</td>\n",
       "      <td>0</td>\n",
       "      <td>0</td>\n",
       "      <td>0</td>\n",
       "      <td>0</td>\n",
       "      <td>0</td>\n",
       "      <td>0</td>\n",
       "      <td>...</td>\n",
       "      <td>0</td>\n",
       "      <td>0</td>\n",
       "      <td>0</td>\n",
       "      <td>0</td>\n",
       "      <td>0</td>\n",
       "      <td>0</td>\n",
       "      <td>0</td>\n",
       "      <td>0</td>\n",
       "      <td>0</td>\n",
       "      <td>0</td>\n",
       "    </tr>\n",
       "    <tr>\n",
       "      <th>3</th>\n",
       "      <td>0</td>\n",
       "      <td>0</td>\n",
       "      <td>0</td>\n",
       "      <td>0</td>\n",
       "      <td>0</td>\n",
       "      <td>0</td>\n",
       "      <td>0</td>\n",
       "      <td>0</td>\n",
       "      <td>0</td>\n",
       "      <td>0</td>\n",
       "      <td>...</td>\n",
       "      <td>0</td>\n",
       "      <td>0</td>\n",
       "      <td>0</td>\n",
       "      <td>0</td>\n",
       "      <td>0</td>\n",
       "      <td>0</td>\n",
       "      <td>0</td>\n",
       "      <td>0</td>\n",
       "      <td>0</td>\n",
       "      <td>0</td>\n",
       "    </tr>\n",
       "    <tr>\n",
       "      <th>4</th>\n",
       "      <td>0</td>\n",
       "      <td>0</td>\n",
       "      <td>0</td>\n",
       "      <td>0</td>\n",
       "      <td>0</td>\n",
       "      <td>0</td>\n",
       "      <td>0</td>\n",
       "      <td>0</td>\n",
       "      <td>0</td>\n",
       "      <td>0</td>\n",
       "      <td>...</td>\n",
       "      <td>0</td>\n",
       "      <td>0</td>\n",
       "      <td>0</td>\n",
       "      <td>0</td>\n",
       "      <td>0</td>\n",
       "      <td>0</td>\n",
       "      <td>0</td>\n",
       "      <td>0</td>\n",
       "      <td>0</td>\n",
       "      <td>0</td>\n",
       "    </tr>\n",
       "  </tbody>\n",
       "</table>\n",
       "<p>5 rows × 4502 columns</p>\n",
       "</div>"
      ],
      "text/plain": [
       "      rewind  stay  stamford  test  venezuela  crappy  belong  nicksantino  \\\n",
       "0  0       0     0         0     0          0       0       0            0   \n",
       "1  0       0     0         0     0          0       0       0            0   \n",
       "2  0       0     0         0     0          0       0       0            0   \n",
       "3  0       0     0         0     0          0       0       0            0   \n",
       "4  0       0     0         0     0          0       0       0            0   \n",
       "\n",
       "   internet  ...  soo  gah  real  vaca  light  window  sushi  congratulations  \\\n",
       "0         0  ...    0    0     0     0      0       0      0                0   \n",
       "1         0  ...    0    0     0     0      0       0      0                0   \n",
       "2         0  ...    0    0     0     0      0       0      0                0   \n",
       "3         0  ...    0    0     0     0      0       0      0                0   \n",
       "4         0  ...    0    0     0     0      0       0      0                0   \n",
       "\n",
       "   stalker  rodanthe  \n",
       "0        0         0  \n",
       "1        0         0  \n",
       "2        0         0  \n",
       "3        0         0  \n",
       "4        0         0  \n",
       "\n",
       "[5 rows x 4502 columns]"
      ]
     },
     "execution_count": 88,
     "metadata": {},
     "output_type": "execute_result"
    }
   ],
   "source": [
    "tfMatrixddlovatoCorpusSL.head()"
   ]
  },
  {
   "cell_type": "code",
   "execution_count": 89,
   "id": "fac48cee-22f5-4f0a-a224-72fd5c3f3f85",
   "metadata": {},
   "outputs": [],
   "source": [
    "tfMatrixddlovatoCorpusSL = calculoTf(ddlovatoCorpusSL, tfMatrixddlovatoCorpusSL)"
   ]
  },
  {
   "cell_type": "code",
   "execution_count": 91,
   "id": "7f808031-af22-40c7-a3a3-eb87a7f4a339",
   "metadata": {},
   "outputs": [],
   "source": [
    "tfMatrixddlovatoCorpusSL.to_csv(\"ddlovatoCorpusSL_Matrix.csv\", index=False)"
   ]
  },
  {
   "cell_type": "markdown",
   "id": "b8820c69-c3e3-43af-843a-698dc3315a65",
   "metadata": {},
   "source": [
    "#### IDF"
   ]
  },
  {
   "cell_type": "code",
   "execution_count": 100,
   "id": "67ffb7c5-4320-4b92-8832-500e9eb4bd2b",
   "metadata": {},
   "outputs": [],
   "source": [
    "def calculoIDF(df):\n",
    "    N = df.shape[0]\n",
    "    valX = (N/(df.astype(bool).sum(axis=0)))\n",
    "    idfValues = pd.Series(np.log(valX))\n",
    "    return idfValues"
   ]
  },
  {
   "cell_type": "markdown",
   "id": "f0ce9e72-7092-4844-90a0-cc9bbb078aa5",
   "metadata": {},
   "source": [
    "#### Top palabras mileycyrusCorpusSL"
   ]
  },
  {
   "cell_type": "code",
   "execution_count": 104,
   "id": "3159c5fc-d7ea-4897-934b-79d0b59c76d3",
   "metadata": {},
   "outputs": [],
   "source": [
    "dfmileycirys=pd.read_csv('mileycyrusCorpusSL_Matrix.csv', header=0)"
   ]
  },
  {
   "cell_type": "code",
   "execution_count": 116,
   "id": "34ed0a49-0253-4338-95d4-3ae6ca1d009a",
   "metadata": {},
   "outputs": [
    {
     "data": {
      "text/plain": [
       "Unnamed: 0              0.000000\n",
       "test                    0.403454\n",
       "150                     0.111111\n",
       "finale                  0.211111\n",
       "n0stalgic               0.110000\n",
       "                          ...   \n",
       "mileycongratulations    0.076923\n",
       "gah                     0.083333\n",
       "ltlady                  0.090856\n",
       "congratulations         3.186285\n",
       "chelle                  0.066667\n",
       "Length: 4974, dtype: float64"
      ]
     },
     "execution_count": 116,
     "metadata": {},
     "output_type": "execute_result"
    }
   ],
   "source": [
    "smileycirys = dfmileycirys.sum()\n",
    "smileycirys"
   ]
  },
  {
   "cell_type": "code",
   "execution_count": 129,
   "id": "530194c5-59af-4722-902f-2f86dc4437d0",
   "metadata": {},
   "outputs": [
    {
     "data": {
      "image/png": "[encoded data removed]",
      "text/plain": [
       "<Figure size 432x288 with 1 Axes>"
      ]
     },
     "metadata": {
      "needs_background": "light"
     },
     "output_type": "display_data"
    }
   ],
   "source": [
    "stringMileyCyrys=(\" \").join(mileycyrusCorpusSL)\n",
    "wordcloudMileyCyrys = WordCloud().generate(stringMileyCyrys)\n",
    "plt.imshow(wordcloudMileyCyrys, interpolation='bilinear')\n",
    "plt.axis(\"off\")\n",
    "plt.show()"
   ]
  },
  {
   "cell_type": "markdown",
   "id": "e04bd83c-d0ab-45c6-b01e-eb0c5a3cb4ea",
   "metadata": {},
   "source": [
    "#### Top palabras tommcfly"
   ]
  },
  {
   "cell_type": "code",
   "execution_count": 130,
   "id": "0e6a2b40-6d2d-4369-9a09-3b9b598eeccb",
   "metadata": {},
   "outputs": [],
   "source": [
    "dftommcfly=pd.read_csv('tommcflyCorpusSL_Matrix.csv', header=0)"
   ]
  },
  {
   "cell_type": "code",
   "execution_count": 131,
   "id": "f64d1e13-5a2d-4c72-83c3-2fe3da406d76",
   "metadata": {},
   "outputs": [
    {
     "data": {
      "text/plain": [
       "Unnamed: 0    0.000000\n",
       "stay          3.509705\n",
       "foodhaha      0.333333\n",
       "test          0.176097\n",
       "asap          0.149733\n",
       "                ...   \n",
       "becoz         0.090909\n",
       "window        0.100000\n",
       "3s            0.066667\n",
       "duda          0.500000\n",
       "vary          0.062500\n",
       "Length: 4372, dtype: float64"
      ]
     },
     "execution_count": 131,
     "metadata": {},
     "output_type": "execute_result"
    }
   ],
   "source": [
    "stommcfly = dftommcfly.sum()\n",
    "stommcfly"
   ]
  },
  {
   "cell_type": "code",
   "execution_count": 132,
   "id": "f33982db-02c5-4495-a3ed-6e4aaef24c98",
   "metadata": {},
   "outputs": [
    {
     "data": {
      "image/png": "[encoded data removed]",
      "text/plain": [
       "<Figure size 432x288 with 1 Axes>"
      ]
     },
     "metadata": {
      "needs_background": "light"
     },
     "output_type": "display_data"
    }
   ],
   "source": [
    "stringtommcfly=(\" \").join(tommcflyCorpusSL)\n",
    "wordcloudtommcfly = WordCloud().generate(stringtommcfly)\n",
    "plt.imshow(wordcloudtommcfly, interpolation='bilinear')\n",
    "plt.axis(\"off\")\n",
    "plt.show()"
   ]
  },
  {
   "cell_type": "markdown",
   "id": "b52c96b5-75a9-45f1-989c-9bddba3e7108",
   "metadata": {},
   "source": [
    "#### Top palabras ddlovato"
   ]
  },
  {
   "cell_type": "code",
   "execution_count": 133,
   "id": "75a4720c-fe86-4aa4-9914-a337d10cfafa",
   "metadata": {},
   "outputs": [],
   "source": [
    "dfddlovato=pd.read_csv('ddlovatoCorpusSL_Matrix.csv', header=0)"
   ]
  },
  {
   "cell_type": "code",
   "execution_count": 134,
   "id": "3df1d65c-baf5-4950-a9c7-5f5ba6feebf8",
   "metadata": {},
   "outputs": [
    {
     "data": {
      "text/plain": [
       "Unnamed: 0         0.000000\n",
       "rewind             0.083333\n",
       "stay               0.928243\n",
       "stamford           0.111111\n",
       "test               0.182540\n",
       "                     ...   \n",
       "window             0.090909\n",
       "sushi              0.111111\n",
       "congratulations    0.366667\n",
       "stalker            0.090909\n",
       "rodanthe           1.217832\n",
       "Length: 4502, dtype: float64"
      ]
     },
     "execution_count": 134,
     "metadata": {},
     "output_type": "execute_result"
    }
   ],
   "source": [
    "sddlovato = dfddlovato.sum()\n",
    "sddlovato"
   ]
  },
  {
   "cell_type": "code",
   "execution_count": 135,
   "id": "6667ec29-16d7-4936-b314-4da7707a9adf",
   "metadata": {},
   "outputs": [
    {
     "data": {
      "image/png": "[encoded data removed]",
      "text/plain": [
       "<Figure size 432x288 with 1 Axes>"
      ]
     },
     "metadata": {
      "needs_background": "light"
     },
     "output_type": "display_data"
    }
   ],
   "source": [
    "stringddlovato=(\" \").join(ddlovatoCorpusSL)\n",
    "wordcloudddlovato = WordCloud().generate(stringddlovato)\n",
    "plt.imshow(wordcloudddlovato, interpolation='bilinear')\n",
    "plt.axis(\"off\")\n",
    "plt.show()"
   ]
  },
  {
   "cell_type": "code",
   "execution_count": null,
   "id": "35f89500-4c10-47aa-8a8f-2cb1c6d9d798",
   "metadata": {},
   "outputs": [],
   "source": []
  }
 ],
 "metadata": {
  "kernelspec": {
   "display_name": "Python 3 (ipykernel)",
   "language": "python",
   "name": "python3"
  },
  "language_info": {
   "codemirror_mode": {
    "name": "ipython",
    "version": 3
   },
   "file_extension": ".py",
   "mimetype": "text/x-python",
   "name": "python",
   "nbconvert_exporter": "python",
   "pygments_lexer": "ipython3",
   "version": "3.9.7"
  }
 },
 "nbformat": 4,
 "nbformat_minor": 5
}
